{
 "cells": [
  {
   "cell_type": "code",
   "execution_count": null,
   "metadata": {},
   "outputs": [],
   "source": [
    "import os, glob\n",
    "from src.sm4preview import SM4File"
   ]
  },
  {
   "cell_type": "code",
   "execution_count": null,
   "metadata": {},
   "outputs": [],
   "source": [
    "data = [r'c:\\Users\\spmuser\\OneDrive - USNH\\Hollen Lab\\Data\\LEWIS\\20240207 - NbTe2 11k']\n",
    "\n",
    "\n",
    "from pathlib import Path\n",
    "\n",
    "for folder in data:\n",
    "    previews = glob.glob(os.path.join(folder, \"sm4preview\", \"*.png\"))\n",
    "    for fname in glob.glob(os.path.join(folder, '*.sm4')):\n",
    "        test = os.path.join(folder, \"sm4preview\", f\"{Path(fname).stem}.png\")\n",
    "        if test not in previews:\n",
    "            sm4 = SM4File(fname)\n",
    "            sm4.generate_preview()"
   ]
  },
  {
   "cell_type": "code",
   "execution_count": null,
   "metadata": {},
   "outputs": [],
   "source": []
  }
 ],
 "metadata": {
  "kernelspec": {
   "display_name": "Python 3",
   "language": "python",
   "name": "python3"
  },
  "language_info": {
   "codemirror_mode": {
    "name": "ipython",
    "version": 3
   },
   "file_extension": ".py",
   "mimetype": "text/x-python",
   "name": "python",
   "nbconvert_exporter": "python",
   "pygments_lexer": "ipython3",
   "version": "3.11.0"
  },
  "orig_nbformat": 4
 },
 "nbformat": 4,
 "nbformat_minor": 2
}
